{
  "nbformat": 4,
  "nbformat_minor": 0,
  "metadata": {
    "colab": {
      "provenance": [],
      "authorship_tag": "ABX9TyN19CQFWc+tzhsaoGELTV/9",
      "include_colab_link": true
    },
    "kernelspec": {
      "name": "python3",
      "display_name": "Python 3"
    },
    "language_info": {
      "name": "python"
    }
  },
  "cells": [
    {
      "cell_type": "markdown",
      "metadata": {
        "id": "view-in-github",
        "colab_type": "text"
      },
      "source": [
        "<a href=\"https://colab.research.google.com/github/Sohailaadel09/Scaling-Net-Paper-/blob/main/pbl_2023_03.ipynb\" target=\"_parent\"><img src=\"https://colab.research.google.com/assets/colab-badge.svg\" alt=\"Open In Colab\"/></a>"
      ]
    },
    {
      "cell_type": "code",
      "execution_count": 2,
      "metadata": {
        "colab": {
          "base_uri": "https://localhost:8080/"
        },
        "id": "SU2FCH8-nJyX",
        "outputId": "aca26c61-bd8a-469c-c8fc-56fbd191631a"
      },
      "outputs": [
        {
          "output_type": "stream",
          "name": "stdout",
          "text": [
            "Requirement already satisfied: mne in /usr/local/lib/python3.10/dist-packages (1.7.0)\n",
            "Requirement already satisfied: decorator in /usr/local/lib/python3.10/dist-packages (from mne) (4.4.2)\n",
            "Requirement already satisfied: jinja2 in /usr/local/lib/python3.10/dist-packages (from mne) (3.1.4)\n",
            "Requirement already satisfied: lazy-loader>=0.3 in /usr/local/lib/python3.10/dist-packages (from mne) (0.4)\n",
            "Requirement already satisfied: matplotlib>=3.5.0 in /usr/local/lib/python3.10/dist-packages (from mne) (3.7.1)\n",
            "Requirement already satisfied: numpy>=1.21.2 in /usr/local/lib/python3.10/dist-packages (from mne) (1.25.2)\n",
            "Requirement already satisfied: packaging in /usr/local/lib/python3.10/dist-packages (from mne) (24.0)\n",
            "Requirement already satisfied: pooch>=1.5 in /usr/local/lib/python3.10/dist-packages (from mne) (1.8.1)\n",
            "Requirement already satisfied: scipy>=1.7.1 in /usr/local/lib/python3.10/dist-packages (from mne) (1.11.4)\n",
            "Requirement already satisfied: tqdm in /usr/local/lib/python3.10/dist-packages (from mne) (4.66.4)\n",
            "Requirement already satisfied: contourpy>=1.0.1 in /usr/local/lib/python3.10/dist-packages (from matplotlib>=3.5.0->mne) (1.2.1)\n",
            "Requirement already satisfied: cycler>=0.10 in /usr/local/lib/python3.10/dist-packages (from matplotlib>=3.5.0->mne) (0.12.1)\n",
            "Requirement already satisfied: fonttools>=4.22.0 in /usr/local/lib/python3.10/dist-packages (from matplotlib>=3.5.0->mne) (4.53.0)\n",
            "Requirement already satisfied: kiwisolver>=1.0.1 in /usr/local/lib/python3.10/dist-packages (from matplotlib>=3.5.0->mne) (1.4.5)\n",
            "Requirement already satisfied: pillow>=6.2.0 in /usr/local/lib/python3.10/dist-packages (from matplotlib>=3.5.0->mne) (9.4.0)\n",
            "Requirement already satisfied: pyparsing>=2.3.1 in /usr/local/lib/python3.10/dist-packages (from matplotlib>=3.5.0->mne) (3.1.2)\n",
            "Requirement already satisfied: python-dateutil>=2.7 in /usr/local/lib/python3.10/dist-packages (from matplotlib>=3.5.0->mne) (2.8.2)\n",
            "Requirement already satisfied: platformdirs>=2.5.0 in /usr/local/lib/python3.10/dist-packages (from pooch>=1.5->mne) (4.2.2)\n",
            "Requirement already satisfied: requests>=2.19.0 in /usr/local/lib/python3.10/dist-packages (from pooch>=1.5->mne) (2.31.0)\n",
            "Requirement already satisfied: MarkupSafe>=2.0 in /usr/local/lib/python3.10/dist-packages (from jinja2->mne) (2.1.5)\n",
            "Requirement already satisfied: six>=1.5 in /usr/local/lib/python3.10/dist-packages (from python-dateutil>=2.7->matplotlib>=3.5.0->mne) (1.16.0)\n",
            "Requirement already satisfied: charset-normalizer<4,>=2 in /usr/local/lib/python3.10/dist-packages (from requests>=2.19.0->pooch>=1.5->mne) (3.3.2)\n",
            "Requirement already satisfied: idna<4,>=2.5 in /usr/local/lib/python3.10/dist-packages (from requests>=2.19.0->pooch>=1.5->mne) (3.7)\n",
            "Requirement already satisfied: urllib3<3,>=1.21.1 in /usr/local/lib/python3.10/dist-packages (from requests>=2.19.0->pooch>=1.5->mne) (2.0.7)\n",
            "Requirement already satisfied: certifi>=2017.4.17 in /usr/local/lib/python3.10/dist-packages (from requests>=2.19.0->pooch>=1.5->mne) (2024.6.2)\n"
          ]
        }
      ],
      "source": [
        " pip install mne\n"
      ]
    },
    {
      "cell_type": "markdown",
      "source": [
        "\n",
        "\n",
        "```\n",
        "Implementation of the Net Architecture\n",
        "\n",
        "```\n",
        "\n"
      ],
      "metadata": {
        "id": "9PTzFC5SnfTk"
      }
    },
    {
      "cell_type": "code",
      "source": [
        "import torch\n",
        "import torch.nn as nn\n",
        "import torch.optim as optim\n",
        "from torch.utils.data import DataLoader, TensorDataset\n",
        "import numpy as np\n",
        "from sklearn.model_selection import KFold, train_test_split, LeaveOneOut\n",
        "\n",
        "# Define the Layer\n",
        "class Layer(nn.Module):\n",
        "    def __init__(self, input_channels, scaling_levels, kernel_size):\n",
        "        super(Layer, self).__init__()\n",
        "        self.input_channels = input_channels\n",
        "        self.scaling_levels = scaling_levels\n",
        "        self.kernel_size = kernel_size\n",
        "        self.base_conv = nn.Conv1d(input_channels, input_channels, kernel_size, padding=kernel_size//2)\n",
        "        self.downsample_layers = nn.ModuleList([\n",
        "            nn.AvgPool1d(2, stride=2, padding=1) for _ in range(scaling_levels)\n",
        "        ])\n",
        "        self.biases = nn.ParameterList([nn.Parameter(torch.zeros(input_channels)) for _ in range(scaling_levels)])\n",
        "\n",
        "    def forward(self, x):\n",
        "        outputs = []\n",
        "        base_weight = self.base_conv.weight\n",
        "        for i in range(self.scaling_levels):\n",
        "            if i > 0:\n",
        "                base_weight = self.downsample_layers[i-1](base_weight)\n",
        "            output = nn.functional.conv1d(x, base_weight, padding=base_weight.shape[-1]//2) + self.biases[i].unsqueeze(0).unsqueeze(2)\n",
        "            outputs.append(output)\n",
        "        return torch.cat(outputs, dim=1)\n",
        "\n",
        "# Define the Net architecture with Dropout and L2 Regularization\n",
        "class Net(nn.Module):\n",
        "    def __init__(self, num_channels=32, scaling_levels=5, kernel_size=33, num_classes=2):\n",
        "        super(Net, self).__init__()\n",
        "        self.scaling_layers = nn.ModuleList([Layer(1, scaling_levels, kernel_size) for _ in range(num_channels)])\n",
        "        self.conv1 = nn.Conv1d(num_channels * scaling_levels, 64, 3, padding=1)\n",
        "        self.conv2 = nn.Conv1d(64, 128, 3, padding=1)\n",
        "        self.conv3 = nn.Conv1d(128, 256, 3, padding=1)\n",
        "        self.dropout = nn.Dropout(0.5)  # Dropout layer\n",
        "        self.global_pool = nn.AdaptiveAvgPool1d(1)\n",
        "        self.fc = nn.Linear(256, num_classes)\n",
        "\n",
        "    def forward(self, x):\n",
        "        # Apply scaling layers to each channel independently\n",
        "        scaled_features = []\n",
        "        for i in range(x.shape[1]):\n",
        "            channel_data = x[:, i, :].unsqueeze(1)  # Isolate the channel\n",
        "            scaled_features.append(self.scaling_layers[i](channel_data))\n",
        "        x = torch.cat(scaled_features, dim=1)\n",
        "        # Apply convolutional layers\n",
        "        x = torch.relu(self.conv1(x))\n",
        "        x = torch.relu(self.conv2(x))\n",
        "        x = torch.relu(self.conv3(x))\n",
        "        x = self.dropout(x)  # Apply dropout\n",
        "        # Apply global pooling\n",
        "        x = self.global_pool(x).squeeze(-1)\n",
        "        # Apply fully connected layer\n",
        "        x = self.fc(x)\n",
        "        return x\n"
      ],
      "metadata": {
        "id": "sIcIiTSJniiC"
      },
      "execution_count": 3,
      "outputs": []
    },
    {
      "cell_type": "markdown",
      "source": [
        "Data Loading and Augmentation\n"
      ],
      "metadata": {
        "id": "PYlLAVaTnsZU"
      }
    },
    {
      "cell_type": "code",
      "source": [
        "import torch\n",
        "import torch.nn as nn\n",
        "import torch.optim as optim\n",
        "from torch.utils.data import DataLoader, TensorDataset\n",
        "import numpy as np\n",
        "from sklearn.model_selection import KFold, train_test_split, LeaveOneOut\n",
        "\n",
        "# Define the Layer\n",
        "class Layer(nn.Module):\n",
        "    def __init__(self, input_channels, scaling_levels, kernel_size):\n",
        "        super(Layer, self).__init__()\n",
        "        self.input_channels = input_channels\n",
        "        self.scaling_levels = scaling_levels\n",
        "        self.kernel_size = kernel_size\n",
        "        self.base_conv = nn.Conv1d(input_channels, input_channels, kernel_size, padding=kernel_size//2)\n",
        "        self.downsample_layers = nn.ModuleList([\n",
        "            nn.AvgPool1d(2, stride=2, padding=1) for _ in range(scaling_levels)\n",
        "        ])\n",
        "        self.biases = nn.ParameterList([nn.Parameter(torch.zeros(input_channels)) for _ in range(scaling_levels)])\n",
        "\n",
        "    def forward(self, x):\n",
        "        outputs = []\n",
        "        base_weight = self.base_conv.weight\n",
        "        for i in range(self.scaling_levels):\n",
        "            if i > 0:\n",
        "                base_weight = self.downsample_layers[i-1](base_weight)\n",
        "            output = nn.functional.conv1d(x, base_weight, padding=base_weight.shape[-1]//2) + self.biases[i].unsqueeze(0).unsqueeze(2)\n",
        "            outputs.append(output)\n",
        "        return torch.cat(outputs, dim=1)\n",
        "\n",
        "# Define the Net architecture with Dropout and L2 Regularization\n",
        "class Net(nn.Module):\n",
        "    def __init__(self, num_channels=32, scaling_levels=5, kernel_size=33, num_classes=2):\n",
        "        super(Net, self).__init__()\n",
        "        self.scaling_layers = nn.ModuleList([Layer(1, scaling_levels, kernel_size) for _ in range(num_channels)])\n",
        "        self.conv1 = nn.Conv1d(num_channels * scaling_levels, 64, 3, padding=1)\n",
        "        self.conv2 = nn.Conv1d(64, 128, 3, padding=1)\n",
        "        self.conv3 = nn.Conv1d(128, 256, 3, padding=1)\n",
        "        self.dropout = nn.Dropout(0.5)  # Dropout layer\n",
        "        self.global_pool = nn.AdaptiveAvgPool1d(1)\n",
        "        self.fc = nn.Linear(256, num_classes)\n",
        "\n",
        "    def forward(self, x):\n",
        "        # Apply scaling layers to each channel independently\n",
        "        scaled_features = []\n",
        "        for i in range(x.shape[1]):\n",
        "            channel_data = x[:, i, :].unsqueeze(1)  # Isolate the channel\n",
        "            scaled_features.append(self.scaling_layers[i](channel_data))\n",
        "        x = torch.cat(scaled_features, dim=1)\n",
        "        # Apply convolutional layers\n",
        "        x = torch.relu(self.conv1(x))\n",
        "        x = torch.relu(self.conv2(x))\n",
        "        x = torch.relu(self.conv3(x))\n",
        "        x = self.dropout(x)  # Apply dropout\n",
        "        # Apply global pooling\n",
        "        x = self.global_pool(x).squeeze(-1)\n",
        "        # Apply fully connected layer\n",
        "        x = self.fc(x)\n",
        "        return x\n"
      ],
      "metadata": {
        "id": "G6SOiYXLnxZQ"
      },
      "execution_count": 4,
      "outputs": []
    },
    {
      "cell_type": "markdown",
      "source": [
        "Training and Evaluation\n"
      ],
      "metadata": {
        "id": "8dMInVuHn35i"
      }
    },
    {
      "cell_type": "code",
      "source": [
        "def add_noise(data, noise_level=0.01):\n",
        "    noise = np.random.normal(0, noise_level, data.shape)\n",
        "    return data + noise\n",
        "\n",
        "def scale(data, scale_factor=1.1):\n",
        "    return data * scale_factor\n",
        "\n",
        "def shift(data, shift_max=5):\n",
        "    shift = np.random.randint(-shift_max, shift_max)\n",
        "    return np.roll(data, shift, axis=-1)\n",
        "\n",
        "def flip(data):\n",
        "    return np.flip(data, axis=-1)\n",
        "\n",
        "def augment_data(data):\n",
        "    augmented_data = []\n",
        "    for sample in data:\n",
        "        augmented_sample = sample\n",
        "        augmented_sample = add_noise(augmented_sample)\n",
        "        augmented_sample = scale(augmented_sample)\n",
        "        augmented_sample = shift(augmented_sample)\n",
        "        augmented_sample = flip(augmented_sample)\n",
        "        augmented_data.append(augmented_sample)\n",
        "    return np.array(augmented_data)\n",
        "\n",
        "import os\n",
        "import mne\n",
        "import torch\n",
        "import torch.nn as nn\n",
        "import torch.optim as optim\n",
        "from torch.utils.data import DataLoader, TensorDataset\n",
        "import numpy as np\n",
        "from sklearn.model_selection import train_test_split\n",
        "\n",
        "# Function to load and preprocess EEG data from .bdf files\n",
        "def load_eeg_data(file_list, num_channels=32, num_points=160):\n",
        "    data = []\n",
        "    labels = []  # Replace with actual labels if available\n",
        "    for file in file_list:\n",
        "        raw = mne.io.read_raw_bdf(file, preload=True)\n",
        "        raw.pick_types(eeg=True)\n",
        "        eeg_data = raw.get_data()[:num_channels, :num_points]  # Adjust slicing as needed\n",
        "        data.append(eeg_data)\n",
        "        labels.append(np.random.randint(0, 2))  # Replace with actual label loading\n",
        "    data = np.array(data)\n",
        "    labels = np.array(labels)\n",
        "    return data, labels\n",
        "\n",
        "# Set data directory to the current working directory\n",
        "data_dir = os.getcwd()\n",
        "file_list = [os.path.join(data_dir, f's{i:02d}.bdf') for i in range(1, 33)]\n",
        "\n",
        "# Load the data\n",
        "data, labels = load_eeg_data(file_list)\n",
        "\n",
        "# Print data statistics\n",
        "print(f\"Data shape: {data.shape}\")\n",
        "print(f\"Labels shape: {labels.shape}\")\n",
        "print(f\"Label distribution: {np.bincount(labels)}\")\n",
        "\n",
        "# Split data into training and testing sets\n",
        "X_train, X_temp, y_train, y_temp = train_test_split(data, labels, test_size=0.2, random_state=42)\n",
        "X_val, X_test, y_val, y_test = train_test_split(X_temp, y_temp, test_size=0.5, random_state=42)\n",
        "\n",
        "# Apply data augmentation to the training data\n",
        "X_train_augmented = augment_data(X_train)\n",
        "y_train_augmented = y_train  # Duplicate labels for augmented data\n",
        "\n",
        "# Combine original and augmented data\n",
        "X_train_combined = np.concatenate([X_train, X_train_augmented])\n",
        "y_train_combined = np.concatenate([y_train, y_train_augmented])\n",
        "\n",
        "# Print shapes of splits\n",
        "print(f\"Training data shape: {X_train_combined.shape}, Training labels shape: {y_train_combined.shape}\")\n",
        "print(f\"Validation data shape: {X_val.shape}, Validation labels shape: {y_val.shape}\")\n",
        "print(f\"Test data shape: {X_test.shape}, Test labels shape: {y_test.shape}\")\n",
        "\n",
        "# Convert to PyTorch tensors\n",
        "train_data = TensorDataset(torch.tensor(X_train_combined, dtype=torch.float32), torch.tensor(y_train_combined, dtype=torch.long))\n",
        "val_data = TensorDataset(torch.tensor(X_val, dtype=torch.float32), torch.tensor(y_val, dtype=torch.long))\n",
        "test_data = TensorDataset(torch.tensor(X_test, dtype=torch.float32), torch.tensor(y_test, dtype=torch.long))\n",
        "\n",
        "# Create data loaders\n",
        "train_loader = DataLoader(train_data, batch_size=32, shuffle=True)\n",
        "val_loader = DataLoader(val_data, batch_size=32)\n",
        "test_loader = DataLoader(test_data, batch_size=32)\n",
        "\n"
      ],
      "metadata": {
        "colab": {
          "base_uri": "https://localhost:8080/"
        },
        "id": "mSxGVG41n4RN",
        "outputId": "56525e1a-90d8-45ac-862a-bffc46bbd121"
      },
      "execution_count": 5,
      "outputs": [
        {
          "output_type": "stream",
          "name": "stdout",
          "text": [
            "Extracting EDF parameters from /content/s01.bdf...\n",
            "BDF file detected\n",
            "Setting channel info structure...\n",
            "Creating raw.info structure...\n"
          ]
        },
        {
          "output_type": "stream",
          "name": "stderr",
          "text": [
            "<ipython-input-5-96530dbf39bd>:40: RuntimeWarning: Number of records from the header does not match the file size (perhaps the recording was not stopped before exiting). Inferring from the file size.\n",
            "  raw = mne.io.read_raw_bdf(file, preload=True)\n"
          ]
        },
        {
          "output_type": "stream",
          "name": "stdout",
          "text": [
            "Reading 0 ... 487423  =      0.000 ...   951.998 secs...\n",
            "NOTE: pick_types() is a legacy function. New code should use inst.pick(...).\n",
            "Extracting EDF parameters from /content/s02.bdf...\n",
            "BDF file detected\n",
            "Setting channel info structure...\n",
            "Creating raw.info structure...\n",
            "Reading 0 ... 480255  =      0.000 ...   937.998 secs...\n"
          ]
        },
        {
          "output_type": "stream",
          "name": "stderr",
          "text": [
            "<ipython-input-5-96530dbf39bd>:40: RuntimeWarning: Number of records from the header does not match the file size (perhaps the recording was not stopped before exiting). Inferring from the file size.\n",
            "  raw = mne.io.read_raw_bdf(file, preload=True)\n"
          ]
        },
        {
          "output_type": "stream",
          "name": "stdout",
          "text": [
            "NOTE: pick_types() is a legacy function. New code should use inst.pick(...).\n",
            "Extracting EDF parameters from /content/s03.bdf...\n",
            "BDF file detected\n",
            "Setting channel info structure...\n",
            "Creating raw.info structure...\n",
            "Reading 0 ... 480255  =      0.000 ...   937.998 secs...\n"
          ]
        },
        {
          "output_type": "stream",
          "name": "stderr",
          "text": [
            "<ipython-input-5-96530dbf39bd>:40: RuntimeWarning: Number of records from the header does not match the file size (perhaps the recording was not stopped before exiting). Inferring from the file size.\n",
            "  raw = mne.io.read_raw_bdf(file, preload=True)\n"
          ]
        },
        {
          "output_type": "stream",
          "name": "stdout",
          "text": [
            "NOTE: pick_types() is a legacy function. New code should use inst.pick(...).\n",
            "Extracting EDF parameters from /content/s04.bdf...\n",
            "BDF file detected\n",
            "Setting channel info structure...\n",
            "Creating raw.info structure...\n",
            "Reading 0 ... 487423  =      0.000 ...   951.998 secs...\n"
          ]
        },
        {
          "output_type": "stream",
          "name": "stderr",
          "text": [
            "<ipython-input-5-96530dbf39bd>:40: RuntimeWarning: Number of records from the header does not match the file size (perhaps the recording was not stopped before exiting). Inferring from the file size.\n",
            "  raw = mne.io.read_raw_bdf(file, preload=True)\n"
          ]
        },
        {
          "output_type": "stream",
          "name": "stdout",
          "text": [
            "NOTE: pick_types() is a legacy function. New code should use inst.pick(...).\n",
            "Extracting EDF parameters from /content/s05.bdf...\n",
            "BDF file detected\n",
            "Setting channel info structure...\n",
            "Creating raw.info structure...\n",
            "Reading 0 ... 480255  =      0.000 ...   937.998 secs...\n"
          ]
        },
        {
          "output_type": "stream",
          "name": "stderr",
          "text": [
            "<ipython-input-5-96530dbf39bd>:40: RuntimeWarning: Number of records from the header does not match the file size (perhaps the recording was not stopped before exiting). Inferring from the file size.\n",
            "  raw = mne.io.read_raw_bdf(file, preload=True)\n"
          ]
        },
        {
          "output_type": "stream",
          "name": "stdout",
          "text": [
            "NOTE: pick_types() is a legacy function. New code should use inst.pick(...).\n",
            "Extracting EDF parameters from /content/s06.bdf...\n",
            "BDF file detected\n",
            "Setting channel info structure...\n",
            "Creating raw.info structure...\n",
            "Reading 0 ... 487423  =      0.000 ...   951.998 secs...\n"
          ]
        },
        {
          "output_type": "stream",
          "name": "stderr",
          "text": [
            "<ipython-input-5-96530dbf39bd>:40: RuntimeWarning: Number of records from the header does not match the file size (perhaps the recording was not stopped before exiting). Inferring from the file size.\n",
            "  raw = mne.io.read_raw_bdf(file, preload=True)\n"
          ]
        },
        {
          "output_type": "stream",
          "name": "stdout",
          "text": [
            "NOTE: pick_types() is a legacy function. New code should use inst.pick(...).\n",
            "Extracting EDF parameters from /content/s07.bdf...\n",
            "BDF file detected\n",
            "Setting channel info structure...\n",
            "Creating raw.info structure...\n",
            "Reading 0 ... 516607  =      0.000 ...  1008.998 secs...\n"
          ]
        },
        {
          "output_type": "stream",
          "name": "stderr",
          "text": [
            "<ipython-input-5-96530dbf39bd>:40: RuntimeWarning: Number of records from the header does not match the file size (perhaps the recording was not stopped before exiting). Inferring from the file size.\n",
            "  raw = mne.io.read_raw_bdf(file, preload=True)\n"
          ]
        },
        {
          "output_type": "stream",
          "name": "stdout",
          "text": [
            "NOTE: pick_types() is a legacy function. New code should use inst.pick(...).\n",
            "Extracting EDF parameters from /content/s08.bdf...\n",
            "BDF file detected\n",
            "Setting channel info structure...\n",
            "Creating raw.info structure...\n",
            "Reading 0 ... 502271  =      0.000 ...   980.998 secs...\n"
          ]
        },
        {
          "output_type": "stream",
          "name": "stderr",
          "text": [
            "<ipython-input-5-96530dbf39bd>:40: RuntimeWarning: Number of records from the header does not match the file size (perhaps the recording was not stopped before exiting). Inferring from the file size.\n",
            "  raw = mne.io.read_raw_bdf(file, preload=True)\n"
          ]
        },
        {
          "output_type": "stream",
          "name": "stdout",
          "text": [
            "NOTE: pick_types() is a legacy function. New code should use inst.pick(...).\n",
            "Extracting EDF parameters from /content/s09.bdf...\n",
            "BDF file detected\n",
            "Setting channel info structure...\n",
            "Creating raw.info structure...\n",
            "Reading 0 ... 480255  =      0.000 ...   937.998 secs...\n"
          ]
        },
        {
          "output_type": "stream",
          "name": "stderr",
          "text": [
            "<ipython-input-5-96530dbf39bd>:40: RuntimeWarning: Number of records from the header does not match the file size (perhaps the recording was not stopped before exiting). Inferring from the file size.\n",
            "  raw = mne.io.read_raw_bdf(file, preload=True)\n"
          ]
        },
        {
          "output_type": "stream",
          "name": "stdout",
          "text": [
            "NOTE: pick_types() is a legacy function. New code should use inst.pick(...).\n",
            "Extracting EDF parameters from /content/s10.bdf...\n",
            "BDF file detected\n",
            "Setting channel info structure...\n",
            "Creating raw.info structure...\n",
            "Reading 0 ... 509439  =      0.000 ...   994.998 secs...\n"
          ]
        },
        {
          "output_type": "stream",
          "name": "stderr",
          "text": [
            "<ipython-input-5-96530dbf39bd>:40: RuntimeWarning: Number of records from the header does not match the file size (perhaps the recording was not stopped before exiting). Inferring from the file size.\n",
            "  raw = mne.io.read_raw_bdf(file, preload=True)\n"
          ]
        },
        {
          "output_type": "stream",
          "name": "stdout",
          "text": [
            "NOTE: pick_types() is a legacy function. New code should use inst.pick(...).\n",
            "Extracting EDF parameters from /content/s11.bdf...\n",
            "BDF file detected\n",
            "Setting channel info structure...\n",
            "Creating raw.info structure...\n",
            "Reading 0 ... 480255  =      0.000 ...   937.998 secs...\n"
          ]
        },
        {
          "output_type": "stream",
          "name": "stderr",
          "text": [
            "<ipython-input-5-96530dbf39bd>:40: RuntimeWarning: Number of records from the header does not match the file size (perhaps the recording was not stopped before exiting). Inferring from the file size.\n",
            "  raw = mne.io.read_raw_bdf(file, preload=True)\n"
          ]
        },
        {
          "output_type": "stream",
          "name": "stdout",
          "text": [
            "NOTE: pick_types() is a legacy function. New code should use inst.pick(...).\n",
            "Extracting EDF parameters from /content/s12.bdf...\n",
            "BDF file detected\n",
            "Setting channel info structure...\n",
            "Creating raw.info structure...\n",
            "Reading 0 ... 509439  =      0.000 ...   994.998 secs...\n"
          ]
        },
        {
          "output_type": "stream",
          "name": "stderr",
          "text": [
            "<ipython-input-5-96530dbf39bd>:40: RuntimeWarning: Number of records from the header does not match the file size (perhaps the recording was not stopped before exiting). Inferring from the file size.\n",
            "  raw = mne.io.read_raw_bdf(file, preload=True)\n"
          ]
        },
        {
          "output_type": "stream",
          "name": "stdout",
          "text": [
            "NOTE: pick_types() is a legacy function. New code should use inst.pick(...).\n",
            "Extracting EDF parameters from /content/s13.bdf...\n",
            "BDF file detected\n",
            "Setting channel info structure...\n",
            "Creating raw.info structure...\n",
            "Reading 0 ... 487423  =      0.000 ...   951.998 secs...\n"
          ]
        },
        {
          "output_type": "stream",
          "name": "stderr",
          "text": [
            "<ipython-input-5-96530dbf39bd>:40: RuntimeWarning: Number of records from the header does not match the file size (perhaps the recording was not stopped before exiting). Inferring from the file size.\n",
            "  raw = mne.io.read_raw_bdf(file, preload=True)\n"
          ]
        },
        {
          "output_type": "stream",
          "name": "stdout",
          "text": [
            "NOTE: pick_types() is a legacy function. New code should use inst.pick(...).\n",
            "Extracting EDF parameters from /content/s14.bdf...\n",
            "BDF file detected\n",
            "Setting channel info structure...\n",
            "Creating raw.info structure...\n",
            "Reading 0 ... 480255  =      0.000 ...   937.998 secs...\n"
          ]
        },
        {
          "output_type": "stream",
          "name": "stderr",
          "text": [
            "<ipython-input-5-96530dbf39bd>:40: RuntimeWarning: Number of records from the header does not match the file size (perhaps the recording was not stopped before exiting). Inferring from the file size.\n",
            "  raw = mne.io.read_raw_bdf(file, preload=True)\n"
          ]
        },
        {
          "output_type": "stream",
          "name": "stdout",
          "text": [
            "NOTE: pick_types() is a legacy function. New code should use inst.pick(...).\n",
            "Extracting EDF parameters from /content/s15.bdf...\n",
            "BDF file detected\n",
            "Setting channel info structure...\n",
            "Creating raw.info structure...\n",
            "Reading 0 ... 480255  =      0.000 ...   937.998 secs...\n"
          ]
        },
        {
          "output_type": "stream",
          "name": "stderr",
          "text": [
            "<ipython-input-5-96530dbf39bd>:40: RuntimeWarning: Number of records from the header does not match the file size (perhaps the recording was not stopped before exiting). Inferring from the file size.\n",
            "  raw = mne.io.read_raw_bdf(file, preload=True)\n"
          ]
        },
        {
          "output_type": "stream",
          "name": "stdout",
          "text": [
            "NOTE: pick_types() is a legacy function. New code should use inst.pick(...).\n",
            "Extracting EDF parameters from /content/s16.bdf...\n",
            "BDF file detected\n",
            "Setting channel info structure...\n",
            "Creating raw.info structure...\n",
            "Reading 0 ... 480255  =      0.000 ...   937.998 secs...\n"
          ]
        },
        {
          "output_type": "stream",
          "name": "stderr",
          "text": [
            "<ipython-input-5-96530dbf39bd>:40: RuntimeWarning: Number of records from the header does not match the file size (perhaps the recording was not stopped before exiting). Inferring from the file size.\n",
            "  raw = mne.io.read_raw_bdf(file, preload=True)\n"
          ]
        },
        {
          "output_type": "stream",
          "name": "stdout",
          "text": [
            "NOTE: pick_types() is a legacy function. New code should use inst.pick(...).\n",
            "Extracting EDF parameters from /content/s17.bdf...\n",
            "BDF file detected\n",
            "Setting channel info structure...\n",
            "Creating raw.info structure...\n",
            "Reading 0 ... 509439  =      0.000 ...   994.998 secs...\n"
          ]
        },
        {
          "output_type": "stream",
          "name": "stderr",
          "text": [
            "<ipython-input-5-96530dbf39bd>:40: RuntimeWarning: Number of records from the header does not match the file size (perhaps the recording was not stopped before exiting). Inferring from the file size.\n",
            "  raw = mne.io.read_raw_bdf(file, preload=True)\n"
          ]
        },
        {
          "output_type": "stream",
          "name": "stdout",
          "text": [
            "NOTE: pick_types() is a legacy function. New code should use inst.pick(...).\n",
            "Extracting EDF parameters from /content/s18.bdf...\n",
            "BDF file detected\n",
            "Setting channel info structure...\n",
            "Creating raw.info structure...\n",
            "Reading 0 ... 494591  =      0.000 ...   965.998 secs...\n"
          ]
        },
        {
          "output_type": "stream",
          "name": "stderr",
          "text": [
            "<ipython-input-5-96530dbf39bd>:40: RuntimeWarning: Number of records from the header does not match the file size (perhaps the recording was not stopped before exiting). Inferring from the file size.\n",
            "  raw = mne.io.read_raw_bdf(file, preload=True)\n"
          ]
        },
        {
          "output_type": "stream",
          "name": "stdout",
          "text": [
            "NOTE: pick_types() is a legacy function. New code should use inst.pick(...).\n",
            "Extracting EDF parameters from /content/s19.bdf...\n",
            "BDF file detected\n",
            "Setting channel info structure...\n",
            "Creating raw.info structure...\n",
            "Reading 0 ... 487423  =      0.000 ...   951.998 secs...\n"
          ]
        },
        {
          "output_type": "stream",
          "name": "stderr",
          "text": [
            "<ipython-input-5-96530dbf39bd>:40: RuntimeWarning: Number of records from the header does not match the file size (perhaps the recording was not stopped before exiting). Inferring from the file size.\n",
            "  raw = mne.io.read_raw_bdf(file, preload=True)\n"
          ]
        },
        {
          "output_type": "stream",
          "name": "stdout",
          "text": [
            "NOTE: pick_types() is a legacy function. New code should use inst.pick(...).\n",
            "Extracting EDF parameters from /content/s20.bdf...\n",
            "BDF file detected\n",
            "Setting channel info structure...\n",
            "Creating raw.info structure...\n",
            "Reading 0 ... 502271  =      0.000 ...   980.998 secs...\n"
          ]
        },
        {
          "output_type": "stream",
          "name": "stderr",
          "text": [
            "<ipython-input-5-96530dbf39bd>:40: RuntimeWarning: Number of records from the header does not match the file size (perhaps the recording was not stopped before exiting). Inferring from the file size.\n",
            "  raw = mne.io.read_raw_bdf(file, preload=True)\n"
          ]
        },
        {
          "output_type": "stream",
          "name": "stdout",
          "text": [
            "NOTE: pick_types() is a legacy function. New code should use inst.pick(...).\n",
            "Extracting EDF parameters from /content/s21.bdf...\n",
            "BDF file detected\n",
            "Setting channel info structure...\n",
            "Creating raw.info structure...\n",
            "Reading 0 ... 502271  =      0.000 ...   980.998 secs...\n"
          ]
        },
        {
          "output_type": "stream",
          "name": "stderr",
          "text": [
            "<ipython-input-5-96530dbf39bd>:40: RuntimeWarning: Number of records from the header does not match the file size (perhaps the recording was not stopped before exiting). Inferring from the file size.\n",
            "  raw = mne.io.read_raw_bdf(file, preload=True)\n"
          ]
        },
        {
          "output_type": "stream",
          "name": "stdout",
          "text": [
            "NOTE: pick_types() is a legacy function. New code should use inst.pick(...).\n",
            "Extracting EDF parameters from /content/s22.bdf...\n",
            "BDF file detected\n",
            "Setting channel info structure...\n",
            "Creating raw.info structure...\n",
            "Reading 0 ... 487423  =      0.000 ...   951.998 secs...\n"
          ]
        },
        {
          "output_type": "stream",
          "name": "stderr",
          "text": [
            "<ipython-input-5-96530dbf39bd>:40: RuntimeWarning: Number of records from the header does not match the file size (perhaps the recording was not stopped before exiting). Inferring from the file size.\n",
            "  raw = mne.io.read_raw_bdf(file, preload=True)\n"
          ]
        },
        {
          "output_type": "stream",
          "name": "stdout",
          "text": [
            "NOTE: pick_types() is a legacy function. New code should use inst.pick(...).\n",
            "Extracting EDF parameters from /content/s23.bdf...\n",
            "BDF file detected\n",
            "Setting channel info structure...\n",
            "Creating raw.info structure...\n",
            "Reading 0 ... 494591  =      0.000 ...   965.998 secs...\n"
          ]
        },
        {
          "output_type": "stream",
          "name": "stderr",
          "text": [
            "<ipython-input-5-96530dbf39bd>:40: RuntimeWarning: Number of records from the header does not match the file size (perhaps the recording was not stopped before exiting). Inferring from the file size.\n",
            "  raw = mne.io.read_raw_bdf(file, preload=True)\n"
          ]
        },
        {
          "output_type": "stream",
          "name": "stdout",
          "text": [
            "NOTE: pick_types() is a legacy function. New code should use inst.pick(...).\n",
            "Extracting EDF parameters from /content/s24.bdf...\n",
            "BDF file detected\n",
            "Setting channel info structure...\n",
            "Creating raw.info structure...\n",
            "Reading 0 ... 487423  =      0.000 ...   951.998 secs...\n"
          ]
        },
        {
          "output_type": "stream",
          "name": "stderr",
          "text": [
            "<ipython-input-5-96530dbf39bd>:40: RuntimeWarning: Number of records from the header does not match the file size (perhaps the recording was not stopped before exiting). Inferring from the file size.\n",
            "  raw = mne.io.read_raw_bdf(file, preload=True)\n",
            "<ipython-input-5-96530dbf39bd>:40: RuntimeWarning: Channels contain different highpass filters. Highest filter setting will be stored.\n",
            "  raw = mne.io.read_raw_bdf(file, preload=True)\n",
            "<ipython-input-5-96530dbf39bd>:40: RuntimeWarning: Channels contain different lowpass filters. Lowest filter setting will be stored.\n",
            "  raw = mne.io.read_raw_bdf(file, preload=True)\n"
          ]
        },
        {
          "output_type": "stream",
          "name": "stdout",
          "text": [
            "NOTE: pick_types() is a legacy function. New code should use inst.pick(...).\n",
            "Extracting EDF parameters from /content/s25.bdf...\n",
            "BDF file detected\n",
            "Setting channel info structure...\n",
            "Creating raw.info structure...\n",
            "Reading 0 ... 487423  =      0.000 ...   951.998 secs...\n"
          ]
        },
        {
          "output_type": "stream",
          "name": "stderr",
          "text": [
            "<ipython-input-5-96530dbf39bd>:40: RuntimeWarning: Number of records from the header does not match the file size (perhaps the recording was not stopped before exiting). Inferring from the file size.\n",
            "  raw = mne.io.read_raw_bdf(file, preload=True)\n",
            "<ipython-input-5-96530dbf39bd>:40: RuntimeWarning: Channels contain different highpass filters. Highest filter setting will be stored.\n",
            "  raw = mne.io.read_raw_bdf(file, preload=True)\n",
            "<ipython-input-5-96530dbf39bd>:40: RuntimeWarning: Channels contain different lowpass filters. Lowest filter setting will be stored.\n",
            "  raw = mne.io.read_raw_bdf(file, preload=True)\n"
          ]
        },
        {
          "output_type": "stream",
          "name": "stdout",
          "text": [
            "NOTE: pick_types() is a legacy function. New code should use inst.pick(...).\n",
            "Extracting EDF parameters from /content/s26.bdf...\n",
            "BDF file detected\n",
            "Setting channel info structure...\n",
            "Creating raw.info structure...\n",
            "Reading 0 ... 487423  =      0.000 ...   951.998 secs...\n"
          ]
        },
        {
          "output_type": "stream",
          "name": "stderr",
          "text": [
            "<ipython-input-5-96530dbf39bd>:40: RuntimeWarning: Number of records from the header does not match the file size (perhaps the recording was not stopped before exiting). Inferring from the file size.\n",
            "  raw = mne.io.read_raw_bdf(file, preload=True)\n",
            "<ipython-input-5-96530dbf39bd>:40: RuntimeWarning: Channels contain different highpass filters. Highest filter setting will be stored.\n",
            "  raw = mne.io.read_raw_bdf(file, preload=True)\n",
            "<ipython-input-5-96530dbf39bd>:40: RuntimeWarning: Channels contain different lowpass filters. Lowest filter setting will be stored.\n",
            "  raw = mne.io.read_raw_bdf(file, preload=True)\n"
          ]
        },
        {
          "output_type": "stream",
          "name": "stdout",
          "text": [
            "NOTE: pick_types() is a legacy function. New code should use inst.pick(...).\n",
            "Extracting EDF parameters from /content/s27.bdf...\n",
            "BDF file detected\n",
            "Setting channel info structure...\n",
            "Creating raw.info structure...\n",
            "Reading 0 ... 487423  =      0.000 ...   951.998 secs...\n"
          ]
        },
        {
          "output_type": "stream",
          "name": "stderr",
          "text": [
            "<ipython-input-5-96530dbf39bd>:40: RuntimeWarning: Number of records from the header does not match the file size (perhaps the recording was not stopped before exiting). Inferring from the file size.\n",
            "  raw = mne.io.read_raw_bdf(file, preload=True)\n",
            "<ipython-input-5-96530dbf39bd>:40: RuntimeWarning: Channels contain different highpass filters. Highest filter setting will be stored.\n",
            "  raw = mne.io.read_raw_bdf(file, preload=True)\n",
            "<ipython-input-5-96530dbf39bd>:40: RuntimeWarning: Channels contain different lowpass filters. Lowest filter setting will be stored.\n",
            "  raw = mne.io.read_raw_bdf(file, preload=True)\n"
          ]
        },
        {
          "output_type": "stream",
          "name": "stdout",
          "text": [
            "NOTE: pick_types() is a legacy function. New code should use inst.pick(...).\n",
            "Extracting EDF parameters from /content/s28.bdf...\n",
            "BDF file detected\n",
            "Setting channel info structure...\n",
            "Creating raw.info structure...\n",
            "Reading 0 ... 502271  =      0.000 ...   980.998 secs...\n"
          ]
        },
        {
          "output_type": "stream",
          "name": "stderr",
          "text": [
            "<ipython-input-5-96530dbf39bd>:40: RuntimeWarning: Number of records from the header does not match the file size (perhaps the recording was not stopped before exiting). Inferring from the file size.\n",
            "  raw = mne.io.read_raw_bdf(file, preload=True)\n",
            "<ipython-input-5-96530dbf39bd>:40: RuntimeWarning: Channels contain different highpass filters. Highest filter setting will be stored.\n",
            "  raw = mne.io.read_raw_bdf(file, preload=True)\n",
            "<ipython-input-5-96530dbf39bd>:40: RuntimeWarning: Channels contain different lowpass filters. Lowest filter setting will be stored.\n",
            "  raw = mne.io.read_raw_bdf(file, preload=True)\n"
          ]
        },
        {
          "output_type": "stream",
          "name": "stdout",
          "text": [
            "NOTE: pick_types() is a legacy function. New code should use inst.pick(...).\n",
            "Extracting EDF parameters from /content/s29.bdf...\n",
            "BDF file detected\n",
            "Setting channel info structure...\n",
            "Creating raw.info structure...\n",
            "Reading 0 ... 477695  =      0.000 ...   932.998 secs...\n"
          ]
        },
        {
          "output_type": "stream",
          "name": "stderr",
          "text": [
            "<ipython-input-5-96530dbf39bd>:40: RuntimeWarning: Channel names are not unique, found duplicates for: {''}. Applying running numbers for duplicates.\n",
            "  raw = mne.io.read_raw_bdf(file, preload=True)\n",
            "<ipython-input-5-96530dbf39bd>:40: RuntimeWarning: Number of records from the header does not match the file size (perhaps the recording was not stopped before exiting). Inferring from the file size.\n",
            "  raw = mne.io.read_raw_bdf(file, preload=True)\n",
            "<ipython-input-5-96530dbf39bd>:40: RuntimeWarning: Channels contain different highpass filters. Highest filter setting will be stored.\n",
            "  raw = mne.io.read_raw_bdf(file, preload=True)\n",
            "<ipython-input-5-96530dbf39bd>:40: RuntimeWarning: Channels contain different lowpass filters. Lowest filter setting will be stored.\n",
            "  raw = mne.io.read_raw_bdf(file, preload=True)\n"
          ]
        },
        {
          "output_type": "stream",
          "name": "stdout",
          "text": [
            "NOTE: pick_types() is a legacy function. New code should use inst.pick(...).\n",
            "Extracting EDF parameters from /content/s30.bdf...\n",
            "BDF file detected\n",
            "Setting channel info structure...\n",
            "Creating raw.info structure...\n",
            "Reading 0 ... 477695  =      0.000 ...   932.998 secs...\n"
          ]
        },
        {
          "output_type": "stream",
          "name": "stderr",
          "text": [
            "<ipython-input-5-96530dbf39bd>:40: RuntimeWarning: Channel names are not unique, found duplicates for: {''}. Applying running numbers for duplicates.\n",
            "  raw = mne.io.read_raw_bdf(file, preload=True)\n",
            "<ipython-input-5-96530dbf39bd>:40: RuntimeWarning: Number of records from the header does not match the file size (perhaps the recording was not stopped before exiting). Inferring from the file size.\n",
            "  raw = mne.io.read_raw_bdf(file, preload=True)\n",
            "<ipython-input-5-96530dbf39bd>:40: RuntimeWarning: Channels contain different highpass filters. Highest filter setting will be stored.\n",
            "  raw = mne.io.read_raw_bdf(file, preload=True)\n",
            "<ipython-input-5-96530dbf39bd>:40: RuntimeWarning: Channels contain different lowpass filters. Lowest filter setting will be stored.\n",
            "  raw = mne.io.read_raw_bdf(file, preload=True)\n"
          ]
        },
        {
          "output_type": "stream",
          "name": "stdout",
          "text": [
            "NOTE: pick_types() is a legacy function. New code should use inst.pick(...).\n",
            "Extracting EDF parameters from /content/s31.bdf...\n",
            "BDF file detected\n",
            "Setting channel info structure...\n",
            "Creating raw.info structure...\n",
            "Reading 0 ... 477695  =      0.000 ...   932.998 secs...\n"
          ]
        },
        {
          "output_type": "stream",
          "name": "stderr",
          "text": [
            "<ipython-input-5-96530dbf39bd>:40: RuntimeWarning: Channel names are not unique, found duplicates for: {''}. Applying running numbers for duplicates.\n",
            "  raw = mne.io.read_raw_bdf(file, preload=True)\n",
            "<ipython-input-5-96530dbf39bd>:40: RuntimeWarning: Number of records from the header does not match the file size (perhaps the recording was not stopped before exiting). Inferring from the file size.\n",
            "  raw = mne.io.read_raw_bdf(file, preload=True)\n",
            "<ipython-input-5-96530dbf39bd>:40: RuntimeWarning: Channels contain different highpass filters. Highest filter setting will be stored.\n",
            "  raw = mne.io.read_raw_bdf(file, preload=True)\n",
            "<ipython-input-5-96530dbf39bd>:40: RuntimeWarning: Channels contain different lowpass filters. Lowest filter setting will be stored.\n",
            "  raw = mne.io.read_raw_bdf(file, preload=True)\n"
          ]
        },
        {
          "output_type": "stream",
          "name": "stdout",
          "text": [
            "NOTE: pick_types() is a legacy function. New code should use inst.pick(...).\n",
            "Extracting EDF parameters from /content/s32.bdf...\n",
            "BDF file detected\n",
            "Setting channel info structure...\n",
            "Creating raw.info structure...\n",
            "Reading 0 ... 477695  =      0.000 ...   932.998 secs...\n"
          ]
        },
        {
          "output_type": "stream",
          "name": "stderr",
          "text": [
            "<ipython-input-5-96530dbf39bd>:40: RuntimeWarning: Channel names are not unique, found duplicates for: {''}. Applying running numbers for duplicates.\n",
            "  raw = mne.io.read_raw_bdf(file, preload=True)\n",
            "<ipython-input-5-96530dbf39bd>:40: RuntimeWarning: Number of records from the header does not match the file size (perhaps the recording was not stopped before exiting). Inferring from the file size.\n",
            "  raw = mne.io.read_raw_bdf(file, preload=True)\n",
            "<ipython-input-5-96530dbf39bd>:40: RuntimeWarning: Channels contain different highpass filters. Highest filter setting will be stored.\n",
            "  raw = mne.io.read_raw_bdf(file, preload=True)\n",
            "<ipython-input-5-96530dbf39bd>:40: RuntimeWarning: Channels contain different lowpass filters. Lowest filter setting will be stored.\n",
            "  raw = mne.io.read_raw_bdf(file, preload=True)\n"
          ]
        },
        {
          "output_type": "stream",
          "name": "stdout",
          "text": [
            "NOTE: pick_types() is a legacy function. New code should use inst.pick(...).\n",
            "Data shape: (32, 32, 160)\n",
            "Labels shape: (32,)\n",
            "Label distribution: [12 20]\n",
            "Training data shape: (50, 32, 160), Training labels shape: (50,)\n",
            "Validation data shape: (3, 32, 160), Validation labels shape: (3,)\n",
            "Test data shape: (4, 32, 160), Test labels shape: (4,)\n"
          ]
        }
      ]
    },
    {
      "cell_type": "markdown",
      "source": [
        "Cross-Validation and Metric Collection"
      ],
      "metadata": {
        "id": "DAchgKQDoEwe"
      }
    },
    {
      "cell_type": "code",
      "source": [
        "import torch\n",
        "import torch.nn as nn\n",
        "import torch.optim as optim\n",
        "from torch.optim.lr_scheduler import StepLR\n",
        "import torch.utils.data as data\n",
        "import torchvision.transforms as transforms\n",
        "import matplotlib.pyplot as plt\n",
        "\n",
        "# Data augmentation for the training dataset\n",
        "transform = transforms.Compose([\n",
        "    transforms.RandomHorizontalFlip(),\n",
        "    transforms.RandomCrop(32, padding=4),\n",
        "    transforms.ToTensor()\n",
        "])\n",
        "\n",
        "# Dummy dataset and data loaders with data augmentation\n",
        "class DummyDataset(data.Dataset):\n",
        "    def __init__(self, num_samples, num_classes, transform=None):\n",
        "        self.num_samples = num_samples\n",
        "        self.num_classes = num_classes\n",
        "        self.data = torch.randn(num_samples, 3, 32, 32)  # Random data\n",
        "        self.labels = torch.randint(0, num_classes, (num_samples,))  # Random labels\n",
        "        self.transform = transform\n",
        "\n",
        "    def __len__(self):\n",
        "        return self.num_samples\n",
        "\n",
        "    def __getitem__(self, idx):\n",
        "        image, label = self.data[idx], self.labels[idx]\n",
        "        image = image / 2 + 0.5  # Normalize tensor to [0, 1] range\n",
        "        if self.transform:\n",
        "            image = transforms.ToPILImage()(image)  # Convert tensor to PIL image\n",
        "            image = self.transform(image)  # Apply transformations\n",
        "        return image, label\n",
        "\n",
        "train_loader = data.DataLoader(DummyDataset(500, 2, transform=transform), batch_size=32, shuffle=True)\n",
        "val_loader = data.DataLoader(DummyDataset(100, 2), batch_size=32, shuffle=False)\n",
        "test_loader = data.DataLoader(DummyDataset(100, 2), batch_size=32, shuffle=False)\n",
        "\n",
        "# Define a more sophisticated model class\n",
        "class Net(nn.Module):\n",
        "    def __init__(self, num_channels, kernel_size, num_classes):\n",
        "        super(Net, self).__init__()\n",
        "        self.conv1 = nn.Conv2d(in_channels=3, out_channels=num_channels, kernel_size=kernel_size, padding=kernel_size//2)\n",
        "        self.bn1 = nn.BatchNorm2d(num_channels)\n",
        "        self.conv2 = nn.Conv2d(num_channels, num_channels*2, kernel_size=3, padding=1)\n",
        "        self.bn2 = nn.BatchNorm2d(num_channels*2)\n",
        "        self.pool = nn.AdaptiveAvgPool2d((4, 4))  # Fixed output size\n",
        "        self.fc1 = nn.Linear(num_channels*2 * 4 * 4, 128)  # Corrected input size\n",
        "        self.fc2 = nn.Linear(128, num_classes)\n",
        "\n",
        "    def forward(self, x):\n",
        "        x = self.conv1(x)\n",
        "        x = self.bn1(x)\n",
        "        x = nn.functional.relu(x)\n",
        "        x = self.conv2(x)\n",
        "        x = self.bn2(x)\n",
        "        x = nn.functional.relu(x)\n",
        "        x = self.pool(x)\n",
        "        x = x.view(x.size(0), -1)\n",
        "        x = self.fc1(x)\n",
        "        x = nn.functional.relu(x)\n",
        "        x = self.fc2(x)\n",
        "        return x\n",
        "\n",
        "# Initialize the model, loss function, and optimizer with L2 regularization\n",
        "model = Net(num_channels=32, kernel_size=3, num_classes=2)\n",
        "criterion = nn.CrossEntropyLoss()\n",
        "optimizer = optim.Adam(model.parameters(), lr=0.002, weight_decay=1e-5)  # Moderately increased learning rate\n",
        "scheduler = StepLR(optimizer, step_size=10, gamma=0.1)  # Learning rate scheduler\n",
        "\n",
        "# Training loop\n",
        "num_epochs = 25\n",
        "training_accuracies = []\n",
        "validation_accuracies = []\n",
        "\n",
        "for epoch in range(num_epochs):\n",
        "    model.train()\n",
        "    running_loss = 0.0\n",
        "    correct = 0\n",
        "    total = 0\n",
        "\n",
        "    # Training phase\n",
        "    for i, (inputs, targets) in enumerate(train_loader, 1):\n",
        "        optimizer.zero_grad()\n",
        "        outputs = model(inputs)\n",
        "        loss = criterion(outputs, targets)\n",
        "        loss.backward()\n",
        "        optimizer.step()\n",
        "\n",
        "        running_loss += loss.item()\n",
        "        _, predicted = outputs.max(1)\n",
        "        total += targets.size(0)\n",
        "        correct += predicted.eq(targets).sum().item()\n",
        "\n",
        "        if i % 10 == 0:\n",
        "            print(f'Epoch [{epoch+1}/{num_epochs}], Step [{i}/{len(train_loader)}], Loss: {running_loss/i:.4f}')\n",
        "\n",
        "    train_accuracy = 100. * correct / total\n",
        "    training_accuracies.append(train_accuracy)\n",
        "    print(f'Training Accuracy after epoch {epoch+1}: {train_accuracy:.2f}%')\n",
        "\n",
        "    # Validation phase\n",
        "    model.eval()\n",
        "    valid_loss = 0.0\n",
        "    correct = 0\n",
        "    total = 0\n",
        "    with torch.no_grad():\n",
        "        for inputs, targets in val_loader:\n",
        "            outputs = model(inputs)\n",
        "            loss = criterion(outputs, targets)\n",
        "            valid_loss += loss.item()\n",
        "            _, predicted = outputs.max(1)\n",
        "            total += targets.size(0)\n",
        "            correct += predicted.eq(targets).sum().item()\n",
        "\n",
        "    valid_loss /= len(val_loader)\n",
        "    val_accuracy = 100. * correct / total\n",
        "    validation_accuracies.append(val_accuracy)\n",
        "    print(f'Epoch [{epoch+1}/{num_epochs}], Validation Loss: {valid_loss:.4f}, Validation Accuracy: {val_accuracy:.2f}%')\n",
        "\n",
        "    scheduler.step()  # Adjust the learning rate\n",
        "\n",
        "# Evaluate the model on test data\n",
        "model.eval()\n",
        "correct = 0\n",
        "total = 0\n",
        "with torch.no_grad():\n",
        "    for inputs, targets in test_loader:\n",
        "        outputs = model(inputs)\n",
        "        _, predicted = outputs.max(1)\n",
        "        total += targets.size(0)\n",
        "        correct += predicted.eq(targets).sum().item()\n",
        "\n",
        "test_accuracy = 100. * correct / total\n",
        "print(f'Test Accuracy: {test_accuracy:.2f}%')\n",
        "\n",
        "# Visualize the training and validation accuracy\n",
        "plt.figure(figsize=(10, 5))\n",
        "plt.plot(range(1, num_epochs + 1), training_accuracies, label='Training Accuracy')\n",
        "plt.plot(range(1, num_epochs + 1), validation_accuracies, label='Validation Accuracy')\n",
        "plt.xlabel('Epoch')\n",
        "plt.ylabel('Accuracy (%)')\n",
        "plt.title('Training and Validation Accuracy')\n",
        "plt.legend()\n",
        "plt.grid(True)\n",
        "plt.show()\n"
      ],
      "metadata": {
        "colab": {
          "base_uri": "https://localhost:8080/",
          "height": 1000
        },
        "id": "FNWwjLlBoFVX",
        "outputId": "76c186d6-8086-4b97-df80-1f3484d7b871"
      },
      "execution_count": 19,
      "outputs": [
        {
          "output_type": "stream",
          "name": "stdout",
          "text": [
            "Epoch [1/25], Step [10/16], Loss: 0.8047\n",
            "Training Accuracy after epoch 1: 52.40%\n",
            "Epoch [1/25], Validation Loss: 0.6611, Validation Accuracy: 64.00%\n",
            "Epoch [2/25], Step [10/16], Loss: 0.7037\n",
            "Training Accuracy after epoch 2: 49.00%\n",
            "Epoch [2/25], Validation Loss: 0.6844, Validation Accuracy: 64.00%\n",
            "Epoch [3/25], Step [10/16], Loss: 0.6973\n",
            "Training Accuracy after epoch 3: 48.80%\n",
            "Epoch [3/25], Validation Loss: 0.6694, Validation Accuracy: 64.00%\n",
            "Epoch [4/25], Step [10/16], Loss: 0.6976\n",
            "Training Accuracy after epoch 4: 48.60%\n",
            "Epoch [4/25], Validation Loss: 0.6574, Validation Accuracy: 64.00%\n",
            "Epoch [5/25], Step [10/16], Loss: 0.6896\n",
            "Training Accuracy after epoch 5: 51.20%\n",
            "Epoch [5/25], Validation Loss: 0.7185, Validation Accuracy: 36.00%\n",
            "Epoch [6/25], Step [10/16], Loss: 0.6909\n",
            "Training Accuracy after epoch 6: 55.80%\n",
            "Epoch [6/25], Validation Loss: 0.6910, Validation Accuracy: 54.00%\n",
            "Epoch [7/25], Step [10/16], Loss: 0.6962\n",
            "Training Accuracy after epoch 7: 51.20%\n",
            "Epoch [7/25], Validation Loss: 0.6993, Validation Accuracy: 43.00%\n",
            "Epoch [8/25], Step [10/16], Loss: 0.6995\n",
            "Training Accuracy after epoch 8: 46.00%\n",
            "Epoch [8/25], Validation Loss: 0.6930, Validation Accuracy: 53.00%\n",
            "Epoch [9/25], Step [10/16], Loss: 0.6932\n",
            "Training Accuracy after epoch 9: 47.00%\n",
            "Epoch [9/25], Validation Loss: 0.6871, Validation Accuracy: 64.00%\n",
            "Epoch [10/25], Step [10/16], Loss: 0.6928\n",
            "Training Accuracy after epoch 10: 50.40%\n",
            "Epoch [10/25], Validation Loss: 0.6816, Validation Accuracy: 64.00%\n",
            "Epoch [11/25], Step [10/16], Loss: 0.6935\n",
            "Training Accuracy after epoch 11: 51.40%\n",
            "Epoch [11/25], Validation Loss: 0.6828, Validation Accuracy: 64.00%\n",
            "Epoch [12/25], Step [10/16], Loss: 0.6927\n",
            "Training Accuracy after epoch 12: 51.60%\n",
            "Epoch [12/25], Validation Loss: 0.6814, Validation Accuracy: 64.00%\n",
            "Epoch [13/25], Step [10/16], Loss: 0.6925\n",
            "Training Accuracy after epoch 13: 51.20%\n",
            "Epoch [13/25], Validation Loss: 0.6785, Validation Accuracy: 64.00%\n",
            "Epoch [14/25], Step [10/16], Loss: 0.6914\n",
            "Training Accuracy after epoch 14: 51.20%\n",
            "Epoch [14/25], Validation Loss: 0.6767, Validation Accuracy: 64.00%\n",
            "Epoch [15/25], Step [10/16], Loss: 0.6927\n",
            "Training Accuracy after epoch 15: 51.20%\n",
            "Epoch [15/25], Validation Loss: 0.6774, Validation Accuracy: 64.00%\n",
            "Epoch [16/25], Step [10/16], Loss: 0.6922\n",
            "Training Accuracy after epoch 16: 51.20%\n",
            "Epoch [16/25], Validation Loss: 0.6769, Validation Accuracy: 64.00%\n",
            "Epoch [17/25], Step [10/16], Loss: 0.6912\n",
            "Training Accuracy after epoch 17: 51.20%\n",
            "Epoch [17/25], Validation Loss: 0.6745, Validation Accuracy: 64.00%\n",
            "Epoch [18/25], Step [10/16], Loss: 0.6902\n",
            "Training Accuracy after epoch 18: 51.20%\n",
            "Epoch [18/25], Validation Loss: 0.6727, Validation Accuracy: 64.00%\n",
            "Epoch [19/25], Step [10/16], Loss: 0.6942\n",
            "Training Accuracy after epoch 19: 51.20%\n",
            "Epoch [19/25], Validation Loss: 0.6776, Validation Accuracy: 64.00%\n",
            "Epoch [20/25], Step [10/16], Loss: 0.6923\n",
            "Training Accuracy after epoch 20: 51.20%\n",
            "Epoch [20/25], Validation Loss: 0.6762, Validation Accuracy: 64.00%\n",
            "Epoch [21/25], Step [10/16], Loss: 0.6928\n",
            "Training Accuracy after epoch 21: 51.20%\n",
            "Epoch [21/25], Validation Loss: 0.6763, Validation Accuracy: 64.00%\n",
            "Epoch [22/25], Step [10/16], Loss: 0.6927\n",
            "Training Accuracy after epoch 22: 51.20%\n",
            "Epoch [22/25], Validation Loss: 0.6762, Validation Accuracy: 64.00%\n",
            "Epoch [23/25], Step [10/16], Loss: 0.6924\n",
            "Training Accuracy after epoch 23: 51.20%\n",
            "Epoch [23/25], Validation Loss: 0.6761, Validation Accuracy: 64.00%\n",
            "Epoch [24/25], Step [10/16], Loss: 0.6920\n",
            "Training Accuracy after epoch 24: 51.20%\n",
            "Epoch [24/25], Validation Loss: 0.6759, Validation Accuracy: 64.00%\n",
            "Epoch [25/25], Step [10/16], Loss: 0.6935\n",
            "Training Accuracy after epoch 25: 51.20%\n",
            "Epoch [25/25], Validation Loss: 0.6762, Validation Accuracy: 64.00%\n",
            "Test Accuracy: 55.00%\n"
          ]
        },
        {
          "output_type": "display_data",
          "data": {
            "text/plain": [
              "<Figure size 1000x500 with 1 Axes>"
            ],
            "image/png": "[encoded data removed]"
          },
          "metadata": {}
        }
      ]
    },
    {
      "cell_type": "code",
      "source": [
        "def train_and_evaluate_model(train_loader, val_loader, model, criterion, optimizer, num_epochs):\n",
        "    for epoch in range(num_epochs):\n",
        "        model.train()\n",
        "        for inputs, targets in train_loader:\n",
        "            optimizer.zero_grad()\n",
        "            outputs = model(inputs)\n",
        "            loss = criterion(outputs, targets)\n",
        "            loss.backward()\n",
        "            optimizer.step()\n",
        "\n",
        "    # Evaluate on validation set\n",
        "    model.eval()\n",
        "    correct = 0\n",
        "    total = 0\n",
        "    with torch.no_grad():\n",
        "        for inputs, targets in val_loader:\n",
        "            outputs = model(inputs)\n",
        "            _, predicted = outputs.max(1)\n",
        "            total += targets.size(0)\n",
        "            correct += predicted.eq(targets).sum().item()\n",
        "\n",
        "    val_accuracy = 100. * correct / total\n",
        "    return val_accuracy\n",
        "\n",
        "def cross_validate(X, y, model, criterion, optimizer, num_epochs, method='5-fold'):\n",
        "    accuracies = {'Arousal': [], 'Valence': [], 'Dominance': []}\n",
        "\n",
        "    if method == '5-fold':\n",
        "        kf = KFold(n_splits=5, shuffle=True, random_state=42)\n",
        "    elif method == '10-fold':\n",
        "        kf = KFold(n_splits=10, shuffle=True, random_state=42)\n",
        "    elif method == 'LOO':\n",
        "        kf = LeaveOneOut()\n",
        "\n",
        "    for train_index, test_index in kf.split(X):\n",
        "        X_train, X_test = X[train_index], X[test_index]\n",
        "        y_train, y_test = y[train_index], y[test_index]\n",
        "\n",
        "        train_data = TensorDataset(torch.tensor(X_train, dtype=torch.float32), torch.tensor(y_train, dtype=torch.long))\n",
        "        val_data = TensorDataset(torch.tensor(X_test, dtype=torch.float32), torch.tensor(y_test, dtype=torch.long))\n",
        "\n",
        "        train_loader = DataLoader(train_data, batch_size=32, shuffle=True)\n",
        "        val_loader = DataLoader(val_data, batch_size=32)\n",
        "\n",
        "        accuracy = train_and_evaluate_model(train_loader, val_loader, model, criterion, optimizer, num_epochs)\n",
        "        accuracies['Arousal'].append(accuracy)  # Replace with actual metric\n",
        "        accuracies['Valence'].append(accuracy)  # Replace with actual metric\n",
        "        accuracies['Dominance'].append(accuracy)  # Replace with actual metric\n",
        "\n",
        "    avg_accuracies = {key: np.mean(value) for key, value in accuracies.items()}\n",
        "    return avg_accuracies\n",
        "\n",
        "# Perform 5-fold cross-validation\n",
        "accuracy_5_fold = cross_validate(data, labels, model, criterion, optimizer, num_epochs, method='5-fold')\n",
        "\n",
        "# Perform 10-fold cross-validation\n",
        "#accuracy_10_fold = cross_validate(data, labels, model, criterion, optimizer, num_epochs, method='10-fold')\n",
        "\n",
        "# Perform Leave-One-Out cross-validation\n",
        "#accuracy_loo = cross_validate(data, labels, model, criterion, optimizer, num_epochs, method='LOO')\n",
        "\n",
        "# Create the results table\n",
        "import pandas as pd\n",
        "\n",
        "results = {\n",
        "    'Studies': ['Koelstra et al. (LOO)', 'Li et al. (10-fold)', 'Gupta et al. (LOO)', 'Pandye et al. (?)',\n",
        "                'Chen et al. (10-fold)', 'Chao et al. (10-fold)', 'Li et al. (LOO)', 'Ours (5-fold)'],\n",
        "    'Features': ['PSD', 'DBN', 'graph', 'VMD', '-', 'MFM', 'STFT', '-'],\n",
        "    'Classifiers': ['Naive Bayes', 'SVM', 'RVM', 'DNN', 'H-ATT-BGRU', 'CapsNet', 'HATCN', 'Net'],\n",
        "    'Arousal': [0.6200, 0.6420, 0.6700, 0.6125, 0.6650, 0.6828, 0.7100, accuracy_5_fold['Arousal']],\n",
        "    'Valence': [0.5760, 0.5840, 0.6900, 0.6250, 0.6790, 0.6673, 0.6901, accuracy_5_fold['Valence']],\n",
        "    'Dominance': ['-', 0.6580, '-', '-', '-', 0.6725, 0.7190, accuracy_5_fold['Dominance']]\n",
        "}\n",
        "\n",
        "df_results = pd.DataFrame(results)\n",
        "\n",
        "# Highlight the highest values in each column\n",
        "df_results.style.apply(lambda x: ['font-weight: bold' if v == x.max() else '' for v in x], subset=['Arousal', 'Valence', 'Dominance'])\n",
        "\n",
        "print(df_results)\n"
      ],
      "metadata": {
        "colab": {
          "base_uri": "https://localhost:8080/"
        },
        "id": "5uAIB2CloNg8",
        "outputId": "c0204cfd-e428-4805-d859-d4ce7ae7465c"
      },
      "execution_count": 7,
      "outputs": [
        {
          "output_type": "stream",
          "name": "stdout",
          "text": [
            "                 Studies Features  Classifiers    Arousal    Valence  \\\n",
            "0  Koelstra et al. (LOO)      PSD  Naive Bayes   0.620000   0.576000   \n",
            "1    Li et al. (10-fold)      DBN          SVM   0.642000   0.584000   \n",
            "2     Gupta et al. (LOO)    graph          RVM   0.670000   0.690000   \n",
            "3      Pandye et al. (?)      VMD          DNN   0.612500   0.625000   \n",
            "4  Chen et al. (10-fold)        -   H-ATT-BGRU   0.665000   0.679000   \n",
            "5  Chao et al. (10-fold)      MFM      CapsNet   0.682800   0.667300   \n",
            "6        Li et al. (LOO)     STFT        HATCN   0.710000   0.690100   \n",
            "7          Ours (5-fold)        -          Net  88.571429  88.571429   \n",
            "\n",
            "   Dominance  \n",
            "0          -  \n",
            "1      0.658  \n",
            "2          -  \n",
            "3          -  \n",
            "4          -  \n",
            "5     0.6725  \n",
            "6      0.719  \n",
            "7  88.571429  \n"
          ]
        }
      ]
    }
  ]
}